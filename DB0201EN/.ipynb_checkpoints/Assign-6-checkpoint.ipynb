{
 "cells": [
  {
   "cell_type": "markdown",
   "metadata": {},
   "source": [
    "<center>\n",
    "    <img src=\"https://s3-api.us-geo.objectstorage.softlayer.net/cf-courses-data/CognitiveClass/Logos/organization_logo/organization_logo.png\" width=\"300\" alt=\"cognitiveclass.ai logo\"  />\n",
    "</center>\n",
    "\n",
    "<h1 align=center><font size = 5>Final Project: Advanced SQL Techniques</font></h1>\n"
   ]
  },
  {
   "cell_type": "markdown",
   "metadata": {
    "tags": []
   },
   "source": [
    "# Objectives\n",
    "After completing this lab, you will be able to:\n",
    "\n",
    "1. Use joins to query data from multiple tables\n",
    "\n",
    "2. Create and query views\n",
    "\n",
    "3. Write and run stored procedures\n",
    "\n",
    "4. Use transactions\n",
    "\n",
    "# Scenario\n",
    "In this project, you will work with three datasets that are available on the City of Chicago's Data Portal:\n",
    "\n",
    "Socioeconomic indicators in Chicago\n",
    "Chicago public schools\n",
    "Chicago crime data\n",
    "You must download each dataset, create a table for each one, and load the appropiate dataset through the Db2 console. If you have already completed the Hands on Lab: Joins, you can reuse the tables you created for that hands-on lab. However, you should not reuse similar tables with other names from other exercises or labs, as they may not create the correct results.\n",
    "\n",
    "### Important note:\n",
    "\n",
    "If you have not yet downloaded the three datasets from the City of Chicago's Data Portal, created the required tables, and loaded the data, please follow the instructions in this section.\n",
    "\n"
   ]
  },
  {
   "cell_type": "markdown",
   "metadata": {},
   "source": [
    "## Understand the datasets\n",
    "\n",
    "To complete the assignment problems in this notebook you will be using three datasets that are available on the city of Chicago's Data Portal:\n",
    "\n",
    "1.  <a href=\"https://data.cityofchicago.org/Health-Human-Services/Census-Data-Selected-socioeconomic-indicators-in-C/kn9c-c2s2?utm_medium=Exinfluencer&utm_source=Exinfluencer&utm_content=000026UJ&utm_term=10006555&utm_id=NA-SkillsNetwork-Channel-SkillsNetworkCoursesIBMDeveloperSkillsNetworkDB0201ENSkillsNetwork20127838-2021-01-01\">Socioeconomic Indicators in Chicago</a>\n",
    "2.  <a href=\"https://data.cityofchicago.org/Education/Chicago-Public-Schools-Progress-Report-Cards-2011-/9xs2-f89t?utm_medium=Exinfluencer&utm_source=Exinfluencer&utm_content=000026UJ&utm_term=10006555&utm_id=NA-SkillsNetwork-Channel-SkillsNetworkCoursesIBMDeveloperSkillsNetworkDB0201ENSkillsNetwork20127838-2021-01-01\">Chicago Public Schools</a>\n",
    "3.  <a href=\"https://data.cityofchicago.org/Public-Safety/Crimes-2001-to-present/ijzp-q8t2?utm_medium=Exinfluencer&utm_source=Exinfluencer&utm_content=000026UJ&utm_term=10006555&utm_id=NA-SkillsNetwork-Channel-SkillsNetworkCoursesIBMDeveloperSkillsNetworkDB0201ENSkillsNetwork20127838-2021-01-01\">Chicago Crime Data</a>\n",
    "\n",
    "### 1. Socioeconomic Indicators in Chicago\n",
    "\n",
    "This dataset contains a selection of six socioeconomic indicators of public health significance and a “hardship index,” for each Chicago community area, for the years 2008 – 2012.\n",
    "\n",
    "A detailed description of this dataset and the original dataset can be obtained from the Chicago Data Portal at:\n",
    "[https://data.cityofchicago.org/Health-Human-Services/Census-Data-Selected-socioeconomic-indicators-in-C/kn9c-c2s2](https://data.cityofchicago.org/Health-Human-Services/Census-Data-Selected-socioeconomic-indicators-in-C/kn9c-c2s2?utm_medium=Exinfluencer&utm_source=Exinfluencer&utm_content=000026UJ&utm_term=10006555&utm_id=NA-SkillsNetwork-Channel-SkillsNetworkCoursesIBMDeveloperSkillsNetworkDB0201ENSkillsNetwork20127838-2021-01-01&cm_mmc=Email_Newsletter-\\_-Developer_Ed%2BTech-\\_-WW_WW-\\_-SkillsNetwork-Courses-IBMDeveloperSkillsNetwork-DB0201EN-SkillsNetwork-20127838&cm_mmca1=000026UJ&cm_mmca2=10006555&cm_mmca3=M12345678&cvosrc=email.Newsletter.M12345678&cvo_campaign=000026UJ)\n",
    "\n",
    "### 2. Chicago Public Schools\n",
    "\n",
    "This dataset shows all school level performance data used to create CPS School Report Cards for the 2011-2012 school year. This dataset is provided by the city of Chicago's Data Portal.\n",
    "\n",
    "A detailed description of this dataset and the original dataset can be obtained from the Chicago Data Portal at:\n",
    "[https://data.cityofchicago.org/Education/Chicago-Public-Schools-Progress-Report-Cards-2011-/9xs2-f89t](https://data.cityofchicago.org/Education/Chicago-Public-Schools-Progress-Report-Cards-2011-/9xs2-f89t?utm_medium=Exinfluencer&utm_source=Exinfluencer&utm_content=000026UJ&utm_term=10006555&utm_id=NA-SkillsNetwork-Channel-SkillsNetworkCoursesIBMDeveloperSkillsNetworkDB0201ENSkillsNetwork20127838-2021-01-01&cm_mmc=Email_Newsletter-\\_-Developer_Ed%2BTech-\\_-WW_WW-\\_-SkillsNetwork-Courses-IBMDeveloperSkillsNetwork-DB0201EN-SkillsNetwork-20127838&cm_mmca1=000026UJ&cm_mmca2=10006555&cm_mmca3=M12345678&cvosrc=email.Newsletter.M12345678&cvo_campaign=000026UJ)\n",
    "\n",
    "### 3. Chicago Crime Data\n",
    "\n",
    "This dataset reflects reported incidents of crime (with the exception of murders where data exists for each victim) that occurred in the City of Chicago from 2001 to present, minus the most recent seven days.\n",
    "\n",
    "A detailed description of this dataset and the original dataset can be obtained from the Chicago Data Portal at:\n",
    "[https://data.cityofchicago.org/Public-Safety/Crimes-2001-to-present/ijzp-q8t2](https://data.cityofchicago.org/Public-Safety/Crimes-2001-to-present/ijzp-q8t2?utm_medium=Exinfluencer&utm_source=Exinfluencer&utm_content=000026UJ&utm_term=10006555&utm_id=NA-SkillsNetwork-Channel-SkillsNetworkCoursesIBMDeveloperSkillsNetworkDB0201ENSkillsNetwork20127838-2021-01-01&cm_mmc=Email_Newsletter-\\_-Developer_Ed%2BTech-\\_-WW_WW-\\_-SkillsNetwork-Courses-IBMDeveloperSkillsNetwork-DB0201EN-SkillsNetwork-20127838&cm_mmca1=000026UJ&cm_mmca2=10006555&cm_mmca3=M12345678&cvosrc=email.Newsletter.M12345678&cvo_campaign=000026UJ)\n"
   ]
  },
  {
   "cell_type": "markdown",
   "metadata": {},
   "source": [
    "### Download the datasets\n",
    "\n",
    "This assignment requires you to have these three tables populated with a subset of the whole datasets.\n",
    "\n",
    "In many cases the dataset to be analyzed is available as a .CSV (comma separated values) file, perhaps on the internet. Click on the links below to download and save the datasets (.CSV files):\n",
    "\n",
    "*   <a href=\"https://cf-courses-data.s3.us.cloud-object-storage.appdomain.cloud/IBMDeveloperSkillsNetwork-DB0201EN-SkillsNetwork/labs/FinalModule_Coursera_V5/data/ChicagoCensusData.csv?utm_medium=Exinfluencer&utm_source=Exinfluencer&utm_content=000026UJ&utm_term=10006555&utm_id=NA-SkillsNetwork-Channel-SkillsNetworkCoursesIBMDeveloperSkillsNetworkDB0201ENSkillsNetwork20127838-2021-01-01\" target=\"_blank\">Chicago Census Data</a>\n",
    "\n",
    "*   <a href=\"https://cf-courses-data.s3.us.cloud-object-storage.appdomain.cloud/IBMDeveloperSkillsNetwork-DB0201EN-SkillsNetwork/labs/FinalModule_Coursera_V5/data/ChicagoPublicSchools.csv?utm_medium=Exinfluencer&utm_source=Exinfluencer&utm_content=000026UJ&utm_term=10006555&utm_id=NA-SkillsNetwork-Channel-SkillsNetworkCoursesIBMDeveloperSkillsNetworkDB0201ENSkillsNetwork20127838-2021-01-01\" target=\"_blank\">Chicago Public Schools</a>\n",
    "\n",
    "*   <a href=\"https://cf-courses-data.s3.us.cloud-object-storage.appdomain.cloud/IBMDeveloperSkillsNetwork-DB0201EN-SkillsNetwork/labs/FinalModule_Coursera_V5/data/ChicagoCrimeData.csv?utm_medium=Exinfluencer&utm_source=Exinfluencer&utm_content=000026UJ&utm_term=10006555&utm_id=NA-SkillsNetwork-Channel-SkillsNetworkCoursesIBMDeveloperSkillsNetworkDB0201ENSkillsNetwork20127838-2021-01-01\" target=\"_blank\">Chicago Crime Data</a>\n",
    "\n",
    "**NOTE:** Ensure you have downloaded the datasets using the links above instead of directly from the Chicago Data Portal. The versions linked here are subsets of the original datasets and have some of the column names modified to be more database friendly which will make it easier to complete this assignment.\n"
   ]
  },
  {
   "cell_type": "markdown",
   "metadata": {},
   "source": [
    "### Store the datasets in database tables\n",
    "\n",
    "To analyze the data using SQL, it first needs to be stored in the database.\n",
    "\n",
    "While it is easier to read the dataset into a Pandas dataframe and then PERSIST it into the database as we saw in Week 3 Lab 3, it results in mapping to default datatypes which may not be optimal for SQL querying. For example a long textual field may map to a CLOB instead of a VARCHAR.\n",
    "\n",
    "Therefore, **it is highly recommended to manually load the table using the database console LOAD tool, as indicated in Week 2 Lab 1 Part II**. The only difference with that lab is that in Step 5 of the instructions you will need to click on create \"(+) New Table\" and specify the name of the table you want to create and then click \"Next\".\n",
    "\n",
    "<img src = \"https://cf-courses-data.s3.us.cloud-object-storage.appdomain.cloud/IBMDeveloperSkillsNetwork-DB0201EN-SkillsNetwork/labs/FinalModule_Coursera_V5/images/LoadingData.png\">\n",
    "\n",
    "##### Now open the Db2 console, open the LOAD tool, Select / Drag the .CSV file for the first dataset, Next create a New Table, and then follow the steps on-screen instructions to load the data. Name the new tables as follows:\n",
    "\n",
    "1.  **CENSUS_DATA**\n",
    "2.  **CHICAGO_PUBLIC_SCHOOLS**\n",
    "3.  **CHICAGO_CRIME_DATA**\n"
   ]
  },
  {
   "cell_type": "markdown",
   "metadata": {},
   "source": [
    "### Connect to the database\n",
    "\n",
    "Let us first load the SQL extension and establish a connection with the database\n"
   ]
  },
  {
   "cell_type": "code",
   "execution_count": 5,
   "metadata": {},
   "outputs": [
    {
     "name": "stdout",
     "output_type": "stream",
     "text": [
      "Requirement already satisfied: sqlalchemy==1.3.9 in /home/jupyterlab/conda/envs/python/lib/python3.7/site-packages (1.3.9)\n",
      "Collecting ibm_db\n",
      "  Downloading ibm_db-3.1.0.tar.gz (797 kB)\n",
      "\u001b[K     |████████████████████████████████| 797 kB 27.0 MB/s eta 0:00:01\n",
      "\u001b[?25h  Installing build dependencies ... \u001b[?25ldone\n",
      "\u001b[?25h  Getting requirements to build wheel ... \u001b[?25ldone\n",
      "\u001b[?25h  Installing backend dependencies ... \u001b[?25ldone\n",
      "\u001b[?25h    Preparing wheel metadata ... \u001b[?25ldone\n",
      "\u001b[?25hCollecting ibm_db_sa\n",
      "  Downloading ibm_db_sa-0.3.7.tar.gz (30 kB)\n",
      "Collecting sqlalchemy>=0.7.3\n",
      "  Downloading SQLAlchemy-1.4.26-cp37-cp37m-manylinux_2_5_x86_64.manylinux1_x86_64.manylinux_2_17_x86_64.manylinux2014_x86_64.whl (1.6 MB)\n",
      "\u001b[K     |████████████████████████████████| 1.6 MB 61.3 MB/s eta 0:00:01\n",
      "\u001b[?25hCollecting importlib-metadata\n",
      "  Downloading importlib_metadata-4.8.1-py3-none-any.whl (17 kB)\n",
      "Collecting greenlet!=0.4.17\n",
      "  Downloading greenlet-1.1.2-cp37-cp37m-manylinux_2_17_x86_64.manylinux2014_x86_64.whl (150 kB)\n",
      "\u001b[K     |████████████████████████████████| 150 kB 94.2 MB/s eta 0:00:01\n",
      "\u001b[?25hCollecting typing-extensions>=3.6.4\n",
      "  Downloading typing_extensions-3.10.0.2-py3-none-any.whl (26 kB)\n",
      "Collecting zipp>=0.5\n",
      "  Downloading zipp-3.6.0-py3-none-any.whl (5.3 kB)\n",
      "Building wheels for collected packages: ibm-db, ibm-db-sa\n",
      "  Building wheel for ibm-db (PEP 517) ... \u001b[?25ldone\n",
      "\u001b[?25h  Created wheel for ibm-db: filename=ibm_db-3.1.0-cp37-cp37m-linux_x86_64.whl size=40911977 sha256=3ea114cc1c202baba017528e3ca43ca8abfd19d3411c2f098d586c1034cb60b9\n",
      "  Stored in directory: /home/jupyterlab/.cache/pip/wheels/47/0a/77/b8b3be9a85b29763931206a34e13bcc1764e3ef13548d09797\n",
      "  Building wheel for ibm-db-sa (setup.py) ... \u001b[?25ldone\n",
      "\u001b[?25h  Created wheel for ibm-db-sa: filename=ibm_db_sa-0.3.7-py3-none-any.whl size=29318 sha256=a4dc8e42c4546d420a65ac13ed4517e7609a0e758e2d77d06468343e7439da65\n",
      "  Stored in directory: /home/jupyterlab/.cache/pip/wheels/4a/e9/e7/0ee334a6cb2f09ec45978e05837b66f59494b482ef38c7ae33\n",
      "Successfully built ibm-db ibm-db-sa\n",
      "Installing collected packages: zipp, typing-extensions, importlib-metadata, greenlet, sqlalchemy, ibm-db, ibm-db-sa\n",
      "  Attempting uninstall: zipp\n",
      "    Found existing installation: zipp 3.5.0\n",
      "    Uninstalling zipp-3.5.0:\n",
      "      Successfully uninstalled zipp-3.5.0\n",
      "  Attempting uninstall: typing-extensions\n",
      "    Found existing installation: typing-extensions 3.10.0.2\n",
      "    Uninstalling typing-extensions-3.10.0.2:\n",
      "      Successfully uninstalled typing-extensions-3.10.0.2\n",
      "  Attempting uninstall: importlib-metadata\n",
      "    Found existing installation: importlib-metadata 4.8.1\n",
      "    Uninstalling importlib-metadata-4.8.1:\n",
      "      Successfully uninstalled importlib-metadata-4.8.1\n",
      "  Attempting uninstall: sqlalchemy\n",
      "    Found existing installation: SQLAlchemy 1.3.9\n",
      "    Uninstalling SQLAlchemy-1.3.9:\n",
      "      Successfully uninstalled SQLAlchemy-1.3.9\n",
      "  Attempting uninstall: ibm-db\n",
      "    Found existing installation: ibm-db 3.0.4\n",
      "    Uninstalling ibm-db-3.0.4:\n",
      "      Successfully uninstalled ibm-db-3.0.4\n",
      "  Attempting uninstall: ibm-db-sa\n",
      "    Found existing installation: ibm-db-sa 0.3.3\n",
      "    Uninstalling ibm-db-sa-0.3.3:\n",
      "      Successfully uninstalled ibm-db-sa-0.3.3\n",
      "Successfully installed greenlet-1.1.2 ibm-db-3.1.0 ibm-db-sa-0.3.7 importlib-metadata-4.8.1 sqlalchemy-1.4.26 typing-extensions-3.10.0.2 zipp-3.6.0\n"
     ]
    }
   ],
   "source": [
    "!pip install sqlalchemy==1.3.9\n",
    "#!pip install ibm_db_sa\n",
    "!pip install --force-reinstall ibm_db ibm_db_sa"
   ]
  },
  {
   "cell_type": "code",
   "execution_count": 6,
   "metadata": {},
   "outputs": [
    {
     "name": "stdout",
     "output_type": "stream",
     "text": [
      "The sql extension is already loaded. To reload it, use:\n",
      "  %reload_ext sql\n"
     ]
    }
   ],
   "source": [
    "%load_ext sql"
   ]
  },
  {
   "cell_type": "markdown",
   "metadata": {},
   "source": [
    "In the next cell enter your db2 connection string. Recall you created Service Credentials for your Db2 instance in first lab in Week 3. From your Db2 service credentials copy everything after db2:// (except the double quote at the end) and paste it in the cell below after ibm_db_sa://\n",
    "\n",
    "<img src =\"https://cf-courses-data.s3.us.cloud-object-storage.appdomain.cloud/IBMDeveloperSkillsNetwork-DB0201EN-SkillsNetwork/labs/FinalModule_Coursera_V5/images/details.png\">\n"
   ]
  },
  {
   "cell_type": "code",
   "execution_count": 7,
   "metadata": {},
   "outputs": [
    {
     "data": {
      "text/plain": [
       "'Connected: cdm36711@bludb'"
      ]
     },
     "execution_count": 7,
     "metadata": {},
     "output_type": "execute_result"
    }
   ],
   "source": [
    "# Remember the connection string is of the format:\n",
    "# %sql ibm_db_sa://my-username:my-password@my-hostname:my-port/my-db-name?security=SSL\n",
    "# Enter the connection string for your Db2 on Cloud database instance below\n",
    "%sql ibm_db_sa://userid:passwd@fbd88901-ebdb-4a4f-a32e-9822b9fb237b.c1ogj3sd0tgtu0lqde00.databases.appdomain.cloud:32731/bludb?security=SSL"
   ]
  },
  {
   "cell_type": "markdown",
   "metadata": {},
   "source": [
    "## Exercise 1: Using Joins\n",
    "\n",
    "You have been asked to produce some reports about the communities and crimes in the Chicago area. You will need to use SQL join queries to access the data stored across multiple tables.\n",
    "\n",
    "### Question 1\n",
    "\n",
    "Write and execute a SQL query to list the school names, community names and average attendance for communities with a hardship index of 98."
   ]
  },
  {
   "cell_type": "code",
   "execution_count": 80,
   "metadata": {},
   "outputs": [
    {
     "name": "stdout",
     "output_type": "stream",
     "text": [
      " * ibm_db_sa://cdm36711:***@fbd88901-ebdb-4a4f-a32e-9822b9fb237b.c1ogj3sd0tgtu0lqde00.databases.appdomain.cloud:32731/bludb\n",
      "Done.\n"
     ]
    },
    {
     "data": {
      "text/html": [
       "<table>\n",
       "    <thead>\n",
       "        <tr>\n",
       "            <th>name_of_school</th>\n",
       "            <th>community_area_name</th>\n",
       "            <th>average_student_attendance</th>\n",
       "            <th>hardship_index</th>\n",
       "        </tr>\n",
       "    </thead>\n",
       "    <tbody>\n",
       "        <tr>\n",
       "            <td>George Washington Carver Military Academy High School</td>\n",
       "            <td>RIVERDALE</td>\n",
       "            <td>91.60%</td>\n",
       "            <td>98</td>\n",
       "        </tr>\n",
       "        <tr>\n",
       "            <td>George Washington Carver Primary School</td>\n",
       "            <td>RIVERDALE</td>\n",
       "            <td>90.90%</td>\n",
       "            <td>98</td>\n",
       "        </tr>\n",
       "        <tr>\n",
       "            <td>Ira F Aldridge Elementary School</td>\n",
       "            <td>RIVERDALE</td>\n",
       "            <td>92.90%</td>\n",
       "            <td>98</td>\n",
       "        </tr>\n",
       "        <tr>\n",
       "            <td>William E B Dubois Elementary School</td>\n",
       "            <td>RIVERDALE</td>\n",
       "            <td>93.30%</td>\n",
       "            <td>98</td>\n",
       "        </tr>\n",
       "    </tbody>\n",
       "</table>"
      ],
      "text/plain": [
       "[('George Washington Carver Military Academy High School', 'RIVERDALE', '91.60%', 98),\n",
       " ('George Washington Carver Primary School', 'RIVERDALE', '90.90%', 98),\n",
       " ('Ira F Aldridge Elementary School', 'RIVERDALE', '92.90%', 98),\n",
       " ('William E B Dubois Elementary School', 'RIVERDALE', '93.30%', 98)]"
      ]
     },
     "execution_count": 80,
     "metadata": {},
     "output_type": "execute_result"
    }
   ],
   "source": [
    "%%sql\n",
    "select S.name_of_school, S.community_area_name, S.average_student_attendance,E.hardship_index\n",
    "FROM chicago_publi_schools  S\n",
    "inner join census_data E on lcase(S.community_area_name) = lcase(E.community_area_name)\n",
    "where E.hardship_index = 98;"
   ]
  },
  {
   "cell_type": "markdown",
   "metadata": {},
   "source": [
    "### Question 2\n",
    "\n",
    "Write and execute a SQL query to list all crimes that took place at a school. Include case number, crime type and community name."
   ]
  },
  {
   "cell_type": "code",
   "execution_count": 77,
   "metadata": {},
   "outputs": [
    {
     "name": "stdout",
     "output_type": "stream",
     "text": [
      " * ibm_db_sa://cdm36711:***@fbd88901-ebdb-4a4f-a32e-9822b9fb237b.c1ogj3sd0tgtu0lqde00.databases.appdomain.cloud:32731/bludb\n",
      "Done.\n"
     ]
    },
    {
     "data": {
      "text/html": [
       "<table>\n",
       "    <thead>\n",
       "        <tr>\n",
       "            <th>case_number</th>\n",
       "            <th>primary_type</th>\n",
       "            <th>description</th>\n",
       "            <th>location_description</th>\n",
       "            <th>community_area_name</th>\n",
       "        </tr>\n",
       "    </thead>\n",
       "    <tbody>\n",
       "        <tr>\n",
       "            <td>HK577020</td>\n",
       "            <td>NARCOTICS</td>\n",
       "            <td>POSS: HEROIN(WHITE)</td>\n",
       "            <td>SCHOOL, PUBLIC, GROUNDS</td>\n",
       "            <td>Rogers Park</td>\n",
       "        </tr>\n",
       "        <tr>\n",
       "            <td>HL725506</td>\n",
       "            <td>BATTERY</td>\n",
       "            <td>PRO EMP HANDS NO/MIN INJURY</td>\n",
       "            <td>SCHOOL, PUBLIC, BUILDING</td>\n",
       "            <td>Lincoln Square</td>\n",
       "        </tr>\n",
       "        <tr>\n",
       "            <td>HH639427</td>\n",
       "            <td>BATTERY</td>\n",
       "            <td>SIMPLE</td>\n",
       "            <td>SCHOOL, PUBLIC, BUILDING</td>\n",
       "            <td>Austin</td>\n",
       "        </tr>\n",
       "        <tr>\n",
       "            <td>HS200939</td>\n",
       "            <td>CRIMINAL DAMAGE</td>\n",
       "            <td>TO VEHICLE</td>\n",
       "            <td>SCHOOL, PUBLIC, GROUNDS</td>\n",
       "            <td>Austin</td>\n",
       "        </tr>\n",
       "        <tr>\n",
       "            <td>HT315369</td>\n",
       "            <td>ASSAULT</td>\n",
       "            <td>PRO EMP HANDS NO/MIN INJURY</td>\n",
       "            <td>SCHOOL, PUBLIC, GROUNDS</td>\n",
       "            <td>East Garfield Park</td>\n",
       "        </tr>\n",
       "        <tr>\n",
       "            <td>HP716225</td>\n",
       "            <td>BATTERY</td>\n",
       "            <td>SIMPLE</td>\n",
       "            <td>SCHOOL, PUBLIC, BUILDING</td>\n",
       "            <td>Douglas</td>\n",
       "        </tr>\n",
       "        <tr>\n",
       "            <td>HL353697</td>\n",
       "            <td>BATTERY</td>\n",
       "            <td>SIMPLE</td>\n",
       "            <td>SCHOOL, PUBLIC, GROUNDS</td>\n",
       "            <td>South Shore</td>\n",
       "        </tr>\n",
       "        <tr>\n",
       "            <td>HS305355</td>\n",
       "            <td>NARCOTICS</td>\n",
       "            <td>MANU/DEL:CANNABIS 10GM OR LESS</td>\n",
       "            <td>SCHOOL, PUBLIC, BUILDING</td>\n",
       "            <td>Brighton Park</td>\n",
       "        </tr>\n",
       "        <tr>\n",
       "            <td>JA460432</td>\n",
       "            <td>BATTERY</td>\n",
       "            <td>SIMPLE</td>\n",
       "            <td>SCHOOL, PUBLIC, GROUNDS</td>\n",
       "            <td>Ashburn</td>\n",
       "        </tr>\n",
       "        <tr>\n",
       "            <td>HR585012</td>\n",
       "            <td>CRIMINAL TRESPA</td>\n",
       "            <td>TO LAND</td>\n",
       "            <td>SCHOOL, PUBLIC, GROUNDS</td>\n",
       "            <td>Ashburn</td>\n",
       "        </tr>\n",
       "        <tr>\n",
       "            <td>HH292682</td>\n",
       "            <td>PUBLIC PEACE VI</td>\n",
       "            <td>BOMB THREAT</td>\n",
       "            <td>SCHOOL, PRIVATE, BUILDING</td>\n",
       "            <td>None</td>\n",
       "        </tr>\n",
       "        <tr>\n",
       "            <td>G635735</td>\n",
       "            <td>PUBLIC PEACE VI</td>\n",
       "            <td>BOMB THREAT</td>\n",
       "            <td>SCHOOL, PUBLIC, BUILDING</td>\n",
       "            <td>None</td>\n",
       "        </tr>\n",
       "    </tbody>\n",
       "</table>"
      ],
      "text/plain": [
       "[('HK577020', 'NARCOTICS', 'POSS: HEROIN(WHITE)', 'SCHOOL, PUBLIC, GROUNDS', 'Rogers Park'),\n",
       " ('HL725506', 'BATTERY', 'PRO EMP HANDS NO/MIN INJURY', 'SCHOOL, PUBLIC, BUILDING', 'Lincoln Square'),\n",
       " ('HH639427', 'BATTERY', 'SIMPLE', 'SCHOOL, PUBLIC, BUILDING', 'Austin'),\n",
       " ('HS200939', 'CRIMINAL DAMAGE', 'TO VEHICLE', 'SCHOOL, PUBLIC, GROUNDS', 'Austin'),\n",
       " ('HT315369', 'ASSAULT', 'PRO EMP HANDS NO/MIN INJURY', 'SCHOOL, PUBLIC, GROUNDS', 'East Garfield Park'),\n",
       " ('HP716225', 'BATTERY', 'SIMPLE', 'SCHOOL, PUBLIC, BUILDING', 'Douglas'),\n",
       " ('HL353697', 'BATTERY', 'SIMPLE', 'SCHOOL, PUBLIC, GROUNDS', 'South Shore'),\n",
       " ('HS305355', 'NARCOTICS', 'MANU/DEL:CANNABIS 10GM OR LESS', 'SCHOOL, PUBLIC, BUILDING', 'Brighton Park'),\n",
       " ('JA460432', 'BATTERY', 'SIMPLE', 'SCHOOL, PUBLIC, GROUNDS', 'Ashburn'),\n",
       " ('HR585012', 'CRIMINAL TRESPA', 'TO LAND', 'SCHOOL, PUBLIC, GROUNDS', 'Ashburn'),\n",
       " ('HH292682', 'PUBLIC PEACE VI', 'BOMB THREAT', 'SCHOOL, PRIVATE, BUILDING', None),\n",
       " ('G635735', 'PUBLIC PEACE VI', 'BOMB THREAT', 'SCHOOL, PUBLIC, BUILDING', None)]"
      ]
     },
     "execution_count": 77,
     "metadata": {},
     "output_type": "execute_result"
    }
   ],
   "source": [
    "%%sql\n",
    "select C.case_number, C.primary_type, C.description,C.location_description, E.community_area_name\n",
    "FROM chicago_crime_data C\n",
    "left outer join census_data E on C.community_area_number = E.community_area_number\n",
    "where C.location_description like '%SCHOOL%'"
   ]
  },
  {
   "cell_type": "markdown",
   "metadata": {},
   "source": [
    "## Exercise 2: Creating a View\n",
    "\n",
    "For privacy reasons, you have been asked to create a view that enables users to select just the school name and the icon fields from the CHICAGO_PUBLIC_SCHOOLS table. By providing a view, you can ensure that users cannot see the actual scores given to a school, just the icon associated with their score. You should define new names for the view columns to obscure the use of scores and icons in the original table.\n",
    "\n",
    "### Question 1\n",
    "\n",
    "Write and execute a SQL statement to create a view showing the columns listed in the following table, with new column names as shown in the second column.\n",
    "\n",
    "Write and execute a SQL statement that returns all of the columns from the view.\n",
    "\n",
    "Write and execute a SQL statement that returns just the school name and leaders rating from the view.\n",
    "\n",
    "Take a screenshot showing the last SQL query and its results.\n",
    "\n",
    "\n"
   ]
  },
  {
   "cell_type": "code",
   "execution_count": 65,
   "metadata": {},
   "outputs": [
    {
     "name": "stdout",
     "output_type": "stream",
     "text": [
      " * ibm_db_sa://cdm36711:***@fbd88901-ebdb-4a4f-a32e-9822b9fb237b.c1ogj3sd0tgtu0lqde00.databases.appdomain.cloud:32731/bludb\n",
      "Done.\n",
      "Done.\n"
     ]
    },
    {
     "data": {
      "text/html": [
       "<table>\n",
       "    <thead>\n",
       "        <tr>\n",
       "            <th>school_name</th>\n",
       "            <th>safety_rating</th>\n",
       "            <th>family_rating</th>\n",
       "            <th>environment_rating</th>\n",
       "            <th>instruction_rating</th>\n",
       "            <th>leaders_rating</th>\n",
       "            <th>teachers_rating</th>\n",
       "        </tr>\n",
       "    </thead>\n",
       "    <tbody>\n",
       "        <tr>\n",
       "            <td>Abraham Lincoln Elementary School</td>\n",
       "            <td>Very Strong</td>\n",
       "            <td>Very Strong</td>\n",
       "            <td>Strong</td>\n",
       "            <td>Strong</td>\n",
       "            <td>Weak</td>\n",
       "            <td>Strong</td>\n",
       "        </tr>\n",
       "        <tr>\n",
       "            <td>Adam Clayton Powell Paideia Community Academy Elementary School</td>\n",
       "            <td>Average</td>\n",
       "            <td>Strong</td>\n",
       "            <td>Strong</td>\n",
       "            <td>Very Strong</td>\n",
       "            <td>Weak</td>\n",
       "            <td>Strong</td>\n",
       "        </tr>\n",
       "    </tbody>\n",
       "</table>"
      ],
      "text/plain": [
       "[('Abraham Lincoln Elementary School', 'Very Strong', 'Very Strong', 'Strong', 'Strong', 'Weak', 'Strong'),\n",
       " ('Adam Clayton Powell Paideia Community Academy Elementary School', 'Average', 'Strong', 'Strong', 'Very Strong', 'Weak', 'Strong')]"
      ]
     },
     "execution_count": 65,
     "metadata": {},
     "output_type": "execute_result"
    }
   ],
   "source": [
    "%%sql\n",
    "create or replace view chicago_public_schools as\n",
    "select name_of_school as School_Name, Safety_Icon as Safety_Rating, Family_Involvement_Icon as Family_Rating,\n",
    "        Environment_Icon as Environment_Rating, Instruction_Icon as Instruction_Rating, \n",
    "        Leaders_Icon as Leaders_Rating, Teachers_Icon as Teachers_Rating\n",
    "FROM chicago_publi_schools;\n",
    "\n",
    "select * \n",
    "from chicago_public_schools\n",
    "limit 2;"
   ]
  },
  {
   "cell_type": "code",
   "execution_count": 26,
   "metadata": {},
   "outputs": [
    {
     "name": "stdout",
     "output_type": "stream",
     "text": [
      " * ibm_db_sa://cdm36711:***@fbd88901-ebdb-4a4f-a32e-9822b9fb237b.c1ogj3sd0tgtu0lqde00.databases.appdomain.cloud:32731/bludb\n",
      "Done.\n"
     ]
    },
    {
     "data": {
      "text/html": [
       "<table>\n",
       "    <thead>\n",
       "        <tr>\n",
       "            <th>colname</th>\n",
       "            <th>typename</th>\n",
       "            <th>length</th>\n",
       "        </tr>\n",
       "    </thead>\n",
       "    <tbody>\n",
       "    </tbody>\n",
       "</table>"
      ],
      "text/plain": [
       "[]"
      ]
     },
     "execution_count": 26,
     "metadata": {},
     "output_type": "execute_result"
    }
   ],
   "source": [
    "%sql select COLNAME, TYPENAME, LENGTH from SYSCAT.COLUMNS where TABNAME = 'chicago_public_schools'"
   ]
  },
  {
   "cell_type": "code",
   "execution_count": 32,
   "metadata": {},
   "outputs": [
    {
     "name": "stdout",
     "output_type": "stream",
     "text": [
      " * ibm_db_sa://cdm36711:***@fbd88901-ebdb-4a4f-a32e-9822b9fb237b.c1ogj3sd0tgtu0lqde00.databases.appdomain.cloud:32731/bludb\n",
      "Done.\n"
     ]
    },
    {
     "data": {
      "text/html": [
       "<table>\n",
       "    <thead>\n",
       "        <tr>\n",
       "            <th>school_name</th>\n",
       "            <th>leaders_rating</th>\n",
       "        </tr>\n",
       "    </thead>\n",
       "    <tbody>\n",
       "        <tr>\n",
       "            <td>Abraham Lincoln Elementary School</td>\n",
       "            <td>Weak</td>\n",
       "        </tr>\n",
       "        <tr>\n",
       "            <td>Adam Clayton Powell Paideia Community Academy Elementary School</td>\n",
       "            <td>Weak</td>\n",
       "        </tr>\n",
       "        <tr>\n",
       "            <td>Adlai E Stevenson Elementary School</td>\n",
       "            <td>Weak</td>\n",
       "        </tr>\n",
       "        <tr>\n",
       "            <td>Agustin Lara Elementary Academy</td>\n",
       "            <td>Weak</td>\n",
       "        </tr>\n",
       "        <tr>\n",
       "            <td>Air Force Academy High School</td>\n",
       "            <td>Weak</td>\n",
       "        </tr>\n",
       "    </tbody>\n",
       "</table>"
      ],
      "text/plain": [
       "[('Abraham Lincoln Elementary School', 'Weak'),\n",
       " ('Adam Clayton Powell Paideia Community Academy Elementary School', 'Weak'),\n",
       " ('Adlai E Stevenson Elementary School', 'Weak'),\n",
       " ('Agustin Lara Elementary Academy', 'Weak'),\n",
       " ('Air Force Academy High School', 'Weak')]"
      ]
     },
     "execution_count": 32,
     "metadata": {},
     "output_type": "execute_result"
    }
   ],
   "source": [
    "%%sql\n",
    "select School_Name, Leaders_Rating \n",
    "from chicago_public_schools\n",
    "limit 5;"
   ]
  },
  {
   "cell_type": "markdown",
   "metadata": {},
   "source": [
    "## Exercise 3: Creating a Stored Procedure\n",
    "\n",
    "The icon fields are calculated based on the value in the corresponding score field. You need to make sure that when a score field is updated, the icon field is updated too. To do this, you will write a stored procedure that receives the school id and a leaders score as input parameters, calculates the icon setting and updates the fields appropriately.\n",
    "\n",
    "### Question 1\n",
    "\n",
    "Write the structure of a query to create or replace a stored procedure called UPDATE_LEADERS_SCORE that takes a in_School_ID parameter as an integer and a in_Leader_Score parameter as an integer. Don't forget to use the #SET TERMINATOR statement to use the @ for the CREATE statement terminator.\n",
    "Take a screenshot showing the SQL query."
   ]
  },
  {
   "cell_type": "code",
   "execution_count": 57,
   "metadata": {},
   "outputs": [
    {
     "name": "stdout",
     "output_type": "stream",
     "text": [
      " * ibm_db_sa://cdm36711:***@fbd88901-ebdb-4a4f-a32e-9822b9fb237b.c1ogj3sd0tgtu0lqde00.databases.appdomain.cloud:32731/bludb\n",
      "Done.\n"
     ]
    },
    {
     "data": {
      "text/plain": [
       "[]"
      ]
     },
     "execution_count": 57,
     "metadata": {},
     "output_type": "execute_result"
    }
   ],
   "source": [
    "%%sql\n",
    "-- #SET TERMINATOR @\n",
    "CREATE OR REPLACE PROCEDURE UPDATE_LEADERS_SCORE ( \n",
    "    IN in_SCHOOL_ID INTEGER, IN in_LEADER_SCORE INTEGER )    \n",
    "\n",
    "LANGUAGE SQL                                                \n",
    "MODIFIES SQL DATA                                          \n",
    "\n",
    "BEGIN \n",
    "        \n",
    "END\n",
    "-- @                "
   ]
  },
  {
   "cell_type": "markdown",
   "metadata": {},
   "source": [
    "### Question 2\n",
    "\n",
    "Inside your stored procedure, write a SQL statement to update the Leaders_Score field in the CHICAGO_PUBLIC_SCHOOLS table for the school identified by in_School_ID to the value in the in_Leader_Score parameter.\n",
    "Take a screenshot showing the SQL query."
   ]
  },
  {
   "cell_type": "code",
   "execution_count": 58,
   "metadata": {},
   "outputs": [
    {
     "name": "stdout",
     "output_type": "stream",
     "text": [
      " * ibm_db_sa://cdm36711:***@fbd88901-ebdb-4a4f-a32e-9822b9fb237b.c1ogj3sd0tgtu0lqde00.databases.appdomain.cloud:32731/bludb\n",
      "Done.\n"
     ]
    },
    {
     "data": {
      "text/plain": [
       "[]"
      ]
     },
     "execution_count": 58,
     "metadata": {},
     "output_type": "execute_result"
    }
   ],
   "source": [
    "%%sql\n",
    "-- #SET TERMINATOR @\n",
    "CREATE or replace PROCEDURE UPDATE_LEADERS_SCORE ( \n",
    "    IN in_SCHOOL_ID INTEGER, IN in_LEADER_SCORE INTEGER )     -- ( { IN/OUT type } { parameter-name } { data-type }, ... )\n",
    "\n",
    "LANGUAGE SQL                                                -- Language used in this routine\n",
    "MODIFIES SQL DATA                                           -- This routine will only write/modify data in the table\n",
    "\n",
    "BEGIN \n",
    "\n",
    "        UPDATE CHICAGO_PUBLI_SCHOOLS\n",
    "        SET LEADERS_SCORE = CAST(in_LEADER_SCORE AS VARCHAR(3))\n",
    "        WHERE SCHOOL_ID = in_SCHOOL_ID;\n",
    "END\n",
    "-- @                "
   ]
  },
  {
   "cell_type": "markdown",
   "metadata": {},
   "source": [
    "### Question 3\n",
    "\n",
    "Inside your stored procedure, write a SQL IF statement to update the Leaders_Icon field in the CHICAGO_PUBLIC_SCHOOLS table for the school identified by in_School_ID using the following information."
   ]
  },
  {
   "cell_type": "code",
   "execution_count": 68,
   "metadata": {},
   "outputs": [
    {
     "name": "stdout",
     "output_type": "stream",
     "text": [
      " * ibm_db_sa://cdm36711:***@fbd88901-ebdb-4a4f-a32e-9822b9fb237b.c1ogj3sd0tgtu0lqde00.databases.appdomain.cloud:32731/bludb\n",
      "Done.\n"
     ]
    },
    {
     "data": {
      "text/plain": [
       "[]"
      ]
     },
     "execution_count": 68,
     "metadata": {},
     "output_type": "execute_result"
    }
   ],
   "source": [
    "%%sql\n",
    "-- #SET TERMINATOR @\n",
    "CREATE or replace PROCEDURE UPDATE_LEADERS_SCORE ( \n",
    "    IN in_SCHOOL_ID INTEGER, IN in_LEADER_SCORE INTEGER )     -- ( { IN/OUT type } { parameter-name } { data-type }, ... )\n",
    "\n",
    "LANGUAGE SQL                                                -- Language used in this routine\n",
    "MODIFIES SQL DATA                                           -- This routine will only write/modify data in the table\n",
    "BEGIN \n",
    "        UPDATE CHICAGO_PUBLI_SCHOOLS\n",
    "        SET LEADERS_SCORE = cast(in_LEADER_SCORE as varchar(3))\n",
    "        WHERE SCHOOL_ID = in_SCHOOL_ID;\n",
    "    \n",
    "    IF in_LEADER_SCORE >0 AND in_LEADER_SCORE <20  THEN \n",
    "        UPDATE CHICAGO_PUBLI_SCHOOLS\n",
    "        SET LEADERS_ICON = 'Very Weak'\n",
    "        WHERE SCHOOL_ID = in_SCHOOL_ID;\n",
    "    \n",
    "    ELSEIF in_LEADER_SCORE <40 THEN\n",
    "        UPDATE CHICAGO_PUBLI_SCHOOLS\n",
    "        SET LEADERS_ICON = 'Weak'\n",
    "        WHERE SCHOOL_ID = in_SCHOOL_ID;\n",
    "        \n",
    "    ELSEIF in_LEADER_SCORE <60 THEN\n",
    "        UPDATE CHICAGO_PUBLI_SCHOOLS\n",
    "        SET LEADERS_ICON = 'Average'\n",
    "        WHERE SCHOOL_ID = in_SCHOOL_ID;\n",
    "        \n",
    "    ELSEIF in_LEADER_SCORE <80 THEN\n",
    "        UPDATE CHICAGO_PUBLI_SCHOOLS\n",
    "        SET LEADERS_ICON = 'Strong'\n",
    "        WHERE SCHOOL_ID = in_SCHOOL_ID;\n",
    "        \n",
    "    ELSEIF in_LEADER_SCORE <100 THEN\n",
    "        UPDATE CHICAGO_PUBLI_SCHOOLS\n",
    "        SET LEADERS_ICON = 'Very Strong'\n",
    "        WHERE SCHOOL_ID = in_SCHOOL_ID;  \n",
    "    END IF;                                                 -- End of conditional statement \n",
    "END\n",
    "-- @                "
   ]
  },
  {
   "cell_type": "markdown",
   "metadata": {},
   "source": [
    "## Question 4\n",
    "\n",
    "Run your code to create the stored procedure.\n",
    "Take a screenshot showing the SQL query and its results.\n",
    "\n",
    "Write a query to call the stored procedure, passing a valid school ID and a leader score of 50, to check that the procedure works as expected."
   ]
  },
  {
   "cell_type": "code",
   "execution_count": 69,
   "metadata": {},
   "outputs": [
    {
     "name": "stdout",
     "output_type": "stream",
     "text": [
      " * ibm_db_sa://cdm36711:***@fbd88901-ebdb-4a4f-a32e-9822b9fb237b.c1ogj3sd0tgtu0lqde00.databases.appdomain.cloud:32731/bludb\n",
      "Done.\n",
      "Done.\n",
      "Done.\n"
     ]
    },
    {
     "data": {
      "text/html": [
       "<table>\n",
       "    <thead>\n",
       "        <tr>\n",
       "            <th>school_id</th>\n",
       "            <th>leaders_icon</th>\n",
       "            <th>leaders_score</th>\n",
       "        </tr>\n",
       "    </thead>\n",
       "    <tbody>\n",
       "        <tr>\n",
       "            <td>400018</td>\n",
       "            <td>Average</td>\n",
       "            <td>50</td>\n",
       "        </tr>\n",
       "    </tbody>\n",
       "</table>"
      ],
      "text/plain": [
       "[(400018, 'Average', '50')]"
      ]
     },
     "execution_count": 69,
     "metadata": {},
     "output_type": "execute_result"
    }
   ],
   "source": [
    "%%sql\n",
    "--Need to change the data type from varchar(4) to varchar(11)\n",
    "ALTER TABLE CHICAGO_PUBLI_SCHOOLS\n",
    "ALTER COLUMN leaders_icon SET DATA TYPE VARCHAR(11);\n",
    "\n",
    "call UPDATE_LEADERS_SCORE(400018,50);\n",
    "\n",
    "select school_id, leaders_icon, leaders_score \n",
    "from chicago_publi_schools\n",
    "where school_id = 400018;"
   ]
  },
  {
   "cell_type": "markdown",
   "metadata": {},
   "source": [
    "## Exercise 4: Using Transactions\n",
    "You realise that if someone calls your code with a score outside of the allowed range (0-99), then the score will be updated with the invalid data and the icon will remain at its previous value. There are various ways to avoid this problem, one of which is using a transaction.\n",
    "\n",
    "### Question 1\n",
    "Update your stored procedure definition. Add a generic ELSE clause to the IF statement that rolls back the current work if the score did not fit any of the preceding categories.\n",
    "Hint 1\n",
    "Take a screenshot showing the SQL query."
   ]
  },
  {
   "cell_type": "code",
   "execution_count": 70,
   "metadata": {},
   "outputs": [
    {
     "name": "stdout",
     "output_type": "stream",
     "text": [
      " * ibm_db_sa://cdm36711:***@fbd88901-ebdb-4a4f-a32e-9822b9fb237b.c1ogj3sd0tgtu0lqde00.databases.appdomain.cloud:32731/bludb\n",
      "(ibm_db_dbi.ProgrammingError) ibm_db_dbi::ProgrammingError: Statement Execute Failed: [IBM][CLI Driver][DB2/LINUXX8664] SQL0104N  An unexpected token \"BEGIN           UPDATE CHICAGO_PUBLI_SCHOOLS         SET L\" was found following \"  \".  Expected tokens may include:  \"<psm_if>\".  LINE NUMBER=46.  SQLSTATE=42601 SQLCODE=-104\n",
      "[SQL: -- #SET TERMINATOR @\n",
      "CREATE or replace PROCEDURE UPDATE_LEADERS_SCORE ( \n",
      "    IN in_SCHOOL_ID INTEGER, IN in_LEADER_SCORE INTEGER )     -- ( { IN/OUT type } { parameter-name } { data-type }, ... )\n",
      "\n",
      "LANGUAGE SQL                                                -- Language used in this routine\n",
      "MODIFIES SQL DATA                                           -- This routine will only write/modify data in the table\n",
      "\n",
      "BEGIN \n",
      "\n",
      "        UPDATE CHICAGO_PUBLI_SCHOOLS\n",
      "        SET LEADERS_SCORE = cast(in_LEADER_SCORE as varchar(3))\n",
      "        WHERE SCHOOL_ID = in_SCHOOL_ID;\n",
      "    \n",
      "    IF in_LEADER_SCORE >0 AND in_LEADER_SCORE <20  THEN \n",
      "        UPDATE CHICAGO_PUBLI_SCHOOLS\n",
      "        SET LEADERS_ICON = 'Very Weak'\n",
      "        WHERE SCHOOL_ID = in_SCHOOL_ID;\n",
      "    \n",
      "    ELSEIF in_LEADER_SCORE <40 THEN\n",
      "        UPDATE CHICAGO_PUBLI_SCHOOLS\n",
      "        SET LEADERS_ICON = 'Weak'\n",
      "        WHERE SCHOOL_ID = in_SCHOOL_ID;\n",
      "        \n",
      "    ELSEIF in_LEADER_SCORE <60 THEN\n",
      "        UPDATE CHICAGO_PUBLI_SCHOOLS\n",
      "        SET LEADERS_ICON = 'Average'\n",
      "        WHERE SCHOOL_ID = in_SCHOOL_ID;\n",
      "        \n",
      "    ELSEIF in_LEADER_SCORE <80 THEN\n",
      "        UPDATE CHICAGO_PUBLI_SCHOOLS\n",
      "        SET LEADERS_ICON = 'Strong'\n",
      "        WHERE SCHOOL_ID = in_SCHOOL_ID;\n",
      "        \n",
      "    ELSEIF in_LEADER_SCORE <100 THEN\n",
      "        UPDATE CHICAGO_PUBLI_SCHOOLS\n",
      "        SET LEADERS_ICON = 'Very Strong'\n",
      "        WHERE SCHOOL_ID = in_SCHOOL_ID;\n",
      "    ELSE\n",
      "        ROLLBACK WORK;\n",
      "    \n",
      "    END IF;                                                 -- End of conditional statement\n",
      "    \n",
      "END\n",
      "-- @      \n",
      "\n",
      "call UPDATE_LEADERS_SCORE(400018,38);]\n",
      "(Background on this error at: http://sqlalche.me/e/f405)\n"
     ]
    }
   ],
   "source": [
    "%%sql\n",
    "-- #SET TERMINATOR @\n",
    "CREATE or replace PROCEDURE UPDATE_LEADERS_SCORE ( \n",
    "    IN in_SCHOOL_ID INTEGER, IN in_LEADER_SCORE INTEGER )     -- ( { IN/OUT type } { parameter-name } { data-type }, ... )\n",
    "\n",
    "LANGUAGE SQL                                                -- Language used in this routine\n",
    "MODIFIES SQL DATA                                           -- This routine will only write/modify data in the table\n",
    "BEGIN \n",
    "        UPDATE CHICAGO_PUBLI_SCHOOLS\n",
    "        SET LEADERS_SCORE = cast(in_LEADER_SCORE as varchar(3))\n",
    "        WHERE SCHOOL_ID = in_SCHOOL_ID;\n",
    "    \n",
    "    IF in_LEADER_SCORE >0 AND in_LEADER_SCORE <20  THEN \n",
    "        UPDATE CHICAGO_PUBLI_SCHOOLS\n",
    "        SET LEADERS_ICON = 'Very Weak'\n",
    "        WHERE SCHOOL_ID = in_SCHOOL_ID;\n",
    "    \n",
    "    ELSEIF in_LEADER_SCORE <40 THEN\n",
    "        UPDATE CHICAGO_PUBLI_SCHOOLS\n",
    "        SET LEADERS_ICON = 'Weak'\n",
    "        WHERE SCHOOL_ID = in_SCHOOL_ID;\n",
    "        \n",
    "    ELSEIF in_LEADER_SCORE <60 THEN\n",
    "        UPDATE CHICAGO_PUBLI_SCHOOLS\n",
    "        SET LEADERS_ICON = 'Average'\n",
    "        WHERE SCHOOL_ID = in_SCHOOL_ID;\n",
    "        \n",
    "    ELSEIF in_LEADER_SCORE <80 THEN\n",
    "        UPDATE CHICAGO_PUBLI_SCHOOLS\n",
    "        SET LEADERS_ICON = 'Strong'\n",
    "        WHERE SCHOOL_ID = in_SCHOOL_ID;\n",
    "        \n",
    "    ELSEIF in_LEADER_SCORE <100 THEN\n",
    "        UPDATE CHICAGO_PUBLI_SCHOOLS\n",
    "        SET LEADERS_ICON = 'Very Strong'\n",
    "        WHERE SCHOOL_ID = in_SCHOOL_ID;\n",
    "    ELSE\n",
    "        ROLLBACK WORK;\n",
    "    END IF;                                                 -- End of conditional statement\n",
    "END\n",
    "-- @      "
   ]
  },
  {
   "cell_type": "markdown",
   "metadata": {},
   "source": [
    "### Question 2\n",
    "Update your stored procedure definition again. Add a statement to commit the current unit of work at the end of the procedure.\n",
    "Hint 1\n",
    "Take a screenshot showing the SQL query.\n",
    "\n",
    "Run your code to replace the stored procedure.\n",
    "\n",
    "Write and run one query to check that the updated stored procedure works as expected when you use a valid score of 38.\n",
    "\n",
    "Write and run another query to check that the updated stored procedure works as expected when you use an invalid score of 101."
   ]
  },
  {
   "cell_type": "code",
   "execution_count": 74,
   "metadata": {},
   "outputs": [
    {
     "name": "stdout",
     "output_type": "stream",
     "text": [
      " * ibm_db_sa://cdm36711:***@fbd88901-ebdb-4a4f-a32e-9822b9fb237b.c1ogj3sd0tgtu0lqde00.databases.appdomain.cloud:32731/bludb\n",
      "Done.\n"
     ]
    },
    {
     "data": {
      "text/plain": [
       "[]"
      ]
     },
     "execution_count": 74,
     "metadata": {},
     "output_type": "execute_result"
    }
   ],
   "source": [
    "%%sql\n",
    "-- #SET TERMINATOR @\n",
    "CREATE or replace PROCEDURE UPDATE_LEADERS_SCORE ( \n",
    "    IN in_SCHOOL_ID INTEGER, IN in_LEADER_SCORE INTEGER )     -- ( { IN/OUT type } { parameter-name } { data-type }, ... )\n",
    "LANGUAGE SQL                                                -- Language used in this routine\n",
    "MODIFIES SQL DATA                                           -- This routine will only write/modify data in the table\n",
    "BEGIN \n",
    "        UPDATE CHICAGO_PUBLI_SCHOOLS\n",
    "        SET LEADERS_SCORE = cast(in_LEADER_SCORE as varchar(3))\n",
    "        WHERE SCHOOL_ID = in_SCHOOL_ID;\n",
    "    \n",
    "    IF in_LEADER_SCORE >0 AND in_LEADER_SCORE <20  THEN \n",
    "        UPDATE CHICAGO_PUBLI_SCHOOLS\n",
    "        SET LEADERS_ICON = 'Very Weak'\n",
    "        WHERE SCHOOL_ID = in_SCHOOL_ID;\n",
    "    \n",
    "    ELSEIF in_LEADER_SCORE <40 THEN\n",
    "        UPDATE CHICAGO_PUBLI_SCHOOLS\n",
    "        SET LEADERS_ICON = 'Weak'\n",
    "        WHERE SCHOOL_ID = in_SCHOOL_ID;\n",
    "        \n",
    "    ELSEIF in_LEADER_SCORE <60 THEN\n",
    "        UPDATE CHICAGO_PUBLI_SCHOOLS\n",
    "        SET LEADERS_ICON = 'Average'\n",
    "        WHERE SCHOOL_ID = in_SCHOOL_ID;\n",
    "        \n",
    "    ELSEIF in_LEADER_SCORE <80 THEN\n",
    "        UPDATE CHICAGO_PUBLI_SCHOOLS\n",
    "        SET LEADERS_ICON = 'Strong'\n",
    "        WHERE SCHOOL_ID = in_SCHOOL_ID;\n",
    "        \n",
    "    ELSEIF in_LEADER_SCORE <100 THEN\n",
    "        UPDATE CHICAGO_PUBLI_SCHOOLS\n",
    "        SET LEADERS_ICON = 'Very Strong'\n",
    "        WHERE SCHOOL_ID = in_SCHOOL_ID;\n",
    "    ELSE\n",
    "        ROLLBACK WORK;\n",
    "    END IF; \n",
    "    -- End of conditional statement\n",
    "    COMMIT WORK;\n",
    "END\n",
    "-- @      "
   ]
  },
  {
   "cell_type": "code",
   "execution_count": 75,
   "metadata": {},
   "outputs": [
    {
     "name": "stdout",
     "output_type": "stream",
     "text": [
      " * ibm_db_sa://cdm36711:***@fbd88901-ebdb-4a4f-a32e-9822b9fb237b.c1ogj3sd0tgtu0lqde00.databases.appdomain.cloud:32731/bludb\n",
      "Done.\n",
      "Done.\n"
     ]
    },
    {
     "data": {
      "text/html": [
       "<table>\n",
       "    <thead>\n",
       "        <tr>\n",
       "            <th>school_id</th>\n",
       "            <th>leaders_icon</th>\n",
       "            <th>leaders_score</th>\n",
       "        </tr>\n",
       "    </thead>\n",
       "    <tbody>\n",
       "        <tr>\n",
       "            <td>400018</td>\n",
       "            <td>Weak</td>\n",
       "            <td>38</td>\n",
       "        </tr>\n",
       "    </tbody>\n",
       "</table>"
      ],
      "text/plain": [
       "[(400018, 'Weak', '38')]"
      ]
     },
     "execution_count": 75,
     "metadata": {},
     "output_type": "execute_result"
    }
   ],
   "source": [
    "%%sql\n",
    "\n",
    "call UPDATE_LEADERS_SCORE(400018,38);\n",
    "\n",
    "select school_id, leaders_icon, leaders_score \n",
    "from chicago_publi_schools\n",
    "where school_id = 400018;"
   ]
  },
  {
   "cell_type": "code",
   "execution_count": 76,
   "metadata": {},
   "outputs": [
    {
     "name": "stdout",
     "output_type": "stream",
     "text": [
      " * ibm_db_sa://cdm36711:***@fbd88901-ebdb-4a4f-a32e-9822b9fb237b.c1ogj3sd0tgtu0lqde00.databases.appdomain.cloud:32731/bludb\n",
      "Done.\n",
      "Done.\n"
     ]
    },
    {
     "data": {
      "text/html": [
       "<table>\n",
       "    <thead>\n",
       "        <tr>\n",
       "            <th>school_id</th>\n",
       "            <th>leaders_icon</th>\n",
       "            <th>leaders_score</th>\n",
       "        </tr>\n",
       "    </thead>\n",
       "    <tbody>\n",
       "        <tr>\n",
       "            <td>400018</td>\n",
       "            <td>Weak</td>\n",
       "            <td>38</td>\n",
       "        </tr>\n",
       "    </tbody>\n",
       "</table>"
      ],
      "text/plain": [
       "[(400018, 'Weak', '38')]"
      ]
     },
     "execution_count": 76,
     "metadata": {},
     "output_type": "execute_result"
    }
   ],
   "source": [
    "%%sql\n",
    "-- test out of range value \n",
    "call UPDATE_LEADERS_SCORE(400018,101);\n",
    "\n",
    "select school_id, leaders_icon, leaders_score \n",
    "from chicago_publi_schools\n",
    "where school_id = 400018;"
   ]
  },
  {
   "cell_type": "code",
   "execution_count": null,
   "metadata": {},
   "outputs": [],
   "source": []
  },
  {
   "cell_type": "markdown",
   "metadata": {},
   "source": [
    "## Author(s)\n",
    "\n",
    "<h4>  </h4>\n",
    "\n",
    "\n",
    "\n",
    "\n",
    "## Change log\n",
    "\n",
    "| Date       | Version | Changed by        | Change Description                             |\n",
    "| ---------- | ------- | ----------------- | ---------------------------------------------- |\n",
    "| 2021-10-26 |      |     |                            |\n",
    "                      \n",
    "\n",
    "\n"
   ]
  },
  {
   "cell_type": "code",
   "execution_count": null,
   "metadata": {},
   "outputs": [],
   "source": []
  }
 ],
 "metadata": {
  "kernelspec": {
   "display_name": "Python",
   "language": "python",
   "name": "conda-env-python-py"
  },
  "language_info": {
   "codemirror_mode": {
    "name": "ipython",
    "version": 3
   },
   "file_extension": ".py",
   "mimetype": "text/x-python",
   "name": "python",
   "nbconvert_exporter": "python",
   "pygments_lexer": "ipython3",
   "version": "3.7.10"
  },
  "widgets": {
   "state": {},
   "version": "1.1.2"
  }
 },
 "nbformat": 4,
 "nbformat_minor": 4
}
